{
 "cells": [
  {
   "cell_type": "code",
   "execution_count": 1,
   "metadata": {
    "collapsed": true
   },
   "outputs": [],
   "source": [
    "from PyLyrics import *\n",
    "import billboard\n"
   ]
  },
  {
   "cell_type": "code",
   "execution_count": 122,
   "metadata": {},
   "outputs": [],
   "source": [
    "from datetime import date, timedelta\n",
    "\n",
    "def allsundays(year):\n",
    "   d = date(year, 1, 1)                    # January 1st\n",
    "   d += timedelta(days = 6 - d.weekday())  # First Sunday\n",
    "   while d.year == year:\n",
    "      yield d\n",
    "      d += timedelta(days = 7)\n",
    "\n"
   ]
  },
  {
   "cell_type": "code",
   "execution_count": 123,
   "metadata": {},
   "outputs": [],
   "source": [
    "dates = []\n",
    "for year in range(1990, 2018):\n",
    "    for day in allsundays(year):\n",
    "        dates.append(day)\n",
    "\n"
   ]
  },
  {
   "cell_type": "code",
   "execution_count": 124,
   "metadata": {},
   "outputs": [],
   "source": [
    "my_dict = {}\n",
    "\n",
    "for day in dates:\n",
    "    chart = billboard.ChartData('hot-100', date = day)\n",
    "    for rank in range(100):\n",
    "        title = chart[rank].title\n",
    "        artist = chart[rank].artist\n",
    "        if title not in my_dict:\n",
    "            my_dict[title] = {'artist': artist, 'date': [day]}\n",
    "        else:\n",
    "            my_dict[title]['date'].append(day)\n",
    "\n",
    "\n"
   ]
  },
  {
   "cell_type": "code",
   "execution_count": 125,
   "metadata": {},
   "outputs": [
    {
     "data": {
      "text/plain": [
       "9136"
      ]
     },
     "execution_count": 125,
     "metadata": {},
     "output_type": "execute_result"
    }
   ],
   "source": [
    "len(my_dict)"
   ]
  },
  {
   "cell_type": "code",
   "execution_count": 126,
   "metadata": {},
   "outputs": [],
   "source": [
    "for song in my_dict:\n",
    "    my_dict[song]['date'] = min(my_dict[song]['date'])"
   ]
  },
  {
   "cell_type": "code",
   "execution_count": 127,
   "metadata": {},
   "outputs": [],
   "source": [
    "for song in my_dict:\n",
    "    my_dict[song]['date'] = my_dict[song]['date'].year\n"
   ]
  },
  {
   "cell_type": "code",
   "execution_count": 135,
   "metadata": {},
   "outputs": [
    {
     "name": "stderr",
     "output_type": "stream",
     "text": [
      "/Users/lufeiwang/anaconda/lib/python3.6/site-packages/bs4/__init__.py:181: UserWarning:\n",
      "\n",
      "No parser was explicitly specified, so I'm using the best available HTML parser for this system (\"lxml\"). This usually isn't a problem, but if you run this code on another system, or in a different virtual environment, it may use a different parser and behave differently.\n",
      "\n",
      "The code that caused this warning is on line 193 of the file /Users/lufeiwang/anaconda/lib/python3.6/runpy.py. To get rid of this warning, change code that looks like this:\n",
      "\n",
      " BeautifulSoup(YOUR_MARKUP})\n",
      "\n",
      "to this:\n",
      "\n",
      " BeautifulSoup(YOUR_MARKUP, \"lxml\")\n",
      "\n",
      "\n"
     ]
    },
    {
     "data": {
      "text/plain": [
       "383"
      ]
     },
     "execution_count": 135,
     "metadata": {},
     "output_type": "execute_result"
    }
   ],
   "source": [
    "# my_dict\n",
    "translation_table = dict.fromkeys(map(ord, '!@#$(),?'), None)\n",
    "lyrics = PyLyrics.getLyrics('Maroon 5','Girls Like You')\n",
    "lyrics = lyrics.translate(translation_table)\n",
    "tokens = lyrics.split()\n",
    "# print(tokens)\n",
    "len((tokens))"
   ]
  },
  {
   "cell_type": "code",
   "execution_count": 141,
   "metadata": {},
   "outputs": [
    {
     "name": "stderr",
     "output_type": "stream",
     "text": [
      "/Users/lufeiwang/anaconda/lib/python3.6/site-packages/bs4/__init__.py:181: UserWarning:\n",
      "\n",
      "No parser was explicitly specified, so I'm using the best available HTML parser for this system (\"lxml\"). This usually isn't a problem, but if you run this code on another system, or in a different virtual environment, it may use a different parser and behave differently.\n",
      "\n",
      "The code that caused this warning is on line 193 of the file /Users/lufeiwang/anaconda/lib/python3.6/runpy.py. To get rid of this warning, change code that looks like this:\n",
      "\n",
      " BeautifulSoup(YOUR_MARKUP})\n",
      "\n",
      "to this:\n",
      "\n",
      " BeautifulSoup(YOUR_MARKUP, \"lxml\")\n",
      "\n",
      "\n"
     ]
    }
   ],
   "source": [
    "data = {}\n",
    "translation_table = dict.fromkeys(map(ord, '!@#$(),?'), None)\n",
    "for song in my_dict:\n",
    "    try:\n",
    "        lyrics = PyLyrics.getLyrics(my_dict[song]['artist'], song)\n",
    "    except ValueError:\n",
    "        pass\n",
    "    lyrics = lyrics.translate(translation_table)\n",
    "    tokens = lyrics.split()\n",
    "    date = my_dict[song]['date']\n",
    "    ld = len(set(tokens))\n",
    "    length = len(tokens)\n",
    "    if date not in data:\n",
    "        data[date] = {'ld': [ld], 'leng': [length]}\n",
    "    else:\n",
    "        data[date]['ld'].append(ld)\n",
    "        data[date]['leng'].append(length)\n",
    "        "
   ]
  },
  {
   "cell_type": "code",
   "execution_count": 152,
   "metadata": {},
   "outputs": [],
   "source": [
    "lds = []\n",
    "lens = []\n",
    "for year in data:\n",
    "    ld_sum = 0\n",
    "    count = 0\n",
    "    for i in range(len(data[year]['ld'])):\n",
    "        if data[year]['leng'][i] != 0:\n",
    "            ld = data[year]['ld'][i] / data[year]['leng'][i]\n",
    "            ld_sum += ld\n",
    "            count += 1\n",
    "    avg_ld = ld_sum / count\n",
    "        \n",
    "    \n",
    "    avg_len = sum(data[year]['leng'])/len(data[year]['leng'])\n",
    "    lds.append(avg_ld)\n",
    "    lens.append(avg_len)\n",
    "    "
   ]
  },
  {
   "cell_type": "code",
   "execution_count": 156,
   "metadata": {},
   "outputs": [
    {
     "data": {
      "text/html": [
       "<iframe id=\"igraph\" scrolling=\"no\" style=\"border:none;\" seamless=\"seamless\" src=\"https://plot.ly/~lufeiwang/47.embed\" height=\"525px\" width=\"100%\"></iframe>"
      ],
      "text/plain": [
       "<plotly.tools.PlotlyDisplay object>"
      ]
     },
     "execution_count": 156,
     "metadata": {},
     "output_type": "execute_result"
    }
   ],
   "source": [
    "import plotly.plotly as py\n",
    "from plotly.graph_objs import *\n",
    "\n",
    "py.sign_in('lufeiwang', '7lEHmZa7CcCzu6ZQQllU')\n",
    "\n",
    "trace1 = {\n",
    "  \"x\": [1990, 1991, 1992, 1993, 1994, 1995, 1996, 1997, 1998, 1999, 2000, 2001, 2002, 2003, 2004, 2005, 2006, 2007, 2008, 2009, 2010, 2011, 2012, 2013, 2014, 2015, 2016, 2017], \n",
    "  \"y\": lds, \n",
    "  \"line\": {\n",
    "    \"color\": \"rgb(22, 96, 167)\", \n",
    "    \"width\": 4\n",
    "  }, \n",
    "  \"mode\": \"lines+markers\", \n",
    "  \"name\": \"Average Length of Song Names\", \n",
    "  \"type\": \"scatter\", \n",
    "  \"uid\": \"153f67\", \n",
    "  \"xsrc\": \"lufeiwang:40:a32ddd\", \n",
    "  \"yaxis\": \"y\", \n",
    "  \"ysrc\": \"lufeiwang:40:ac88e4\"\n",
    "}\n",
    "d = Data([trace1])\n",
    "layout = {\n",
    "  \"title\": \"Change of Lexical Diveristy, 1990 to 2017\", \n",
    "  \"xaxis\": {\n",
    "    \"autorange\": True, \n",
    "    \"range\": [1988.34580592, 2018.65419408], \n",
    "    \"title\": \"Year\", \n",
    "    \"type\": \"linear\"\n",
    "  }, \n",
    "  \"yaxis\": {\n",
    "    \"autorange\": True, \n",
    "    \"range\": [2.38145658243, 3.86374209307], \n",
    "    \"title\": \"Lexical Diversity\", \n",
    "    \"type\": \"linear\"\n",
    "  }\n",
    "}\n",
    "fig = Figure(data=d, layout=layout)\n",
    "\n",
    "py.iplot(fig, filename='LD')\n",
    "\n"
   ]
  },
  {
   "cell_type": "code",
   "execution_count": 155,
   "metadata": {},
   "outputs": [
    {
     "data": {
      "text/html": [
       "<iframe id=\"igraph\" scrolling=\"no\" style=\"border:none;\" seamless=\"seamless\" src=\"https://plot.ly/~lufeiwang/49.embed\" height=\"525px\" width=\"100%\"></iframe>"
      ],
      "text/plain": [
       "<plotly.tools.PlotlyDisplay object>"
      ]
     },
     "execution_count": 155,
     "metadata": {},
     "output_type": "execute_result"
    }
   ],
   "source": [
    "trace1 = {\n",
    "  \"x\": [1990, 1991, 1992, 1993, 1994, 1995, 1996, 1997, 1998, 1999, 2000, 2001, 2002, 2003, 2004, 2005, 2006, 2007, 2008, 2009, 2010, 2011, 2012, 2013, 2014, 2015, 2016, 2017], \n",
    "  \"y\": lens, \n",
    "  \"line\": {\n",
    "    \"color\": \"rgb(22, 96, 167)\", \n",
    "    \"width\": 4\n",
    "  }, \n",
    "  \"mode\": \"lines+markers\", \n",
    "  \"name\": \"Average Length of Song Names\", \n",
    "  \"type\": \"scatter\", \n",
    "  \"uid\": \"153f67\", \n",
    "  \"xsrc\": \"lufeiwang:40:a32ddd\", \n",
    "  \"yaxis\": \"y\", \n",
    "  \"ysrc\": \"lufeiwang:40:ac88e4\"\n",
    "}\n",
    "d = Data([trace1])\n",
    "layout = {\n",
    "  \"title\": \"Change of Length of Lyrics, 1990 to 2017\", \n",
    "  \"xaxis\": {\n",
    "    \"autorange\": True, \n",
    "    \"range\": [1988.34580592, 2018.65419408], \n",
    "    \"title\": \"Year\", \n",
    "    \"type\": \"linear\"\n",
    "  }, \n",
    "  \"yaxis\": {\n",
    "    \"autorange\": True, \n",
    "    \"range\": [2.38145658243, 3.86374209307], \n",
    "    \"title\": \"Number of Words\", \n",
    "    \"type\": \"linear\"\n",
    "  }\n",
    "}\n",
    "fig = Figure(data=d, layout=layout)\n",
    "\n",
    "py.iplot(fig, filename='Lyrics_Length')"
   ]
  },
  {
   "cell_type": "code",
   "execution_count": 43,
   "metadata": {},
   "outputs": [
    {
     "name": "stdout",
     "output_type": "stream",
     "text": [
      "      frea         src          to\n",
      "0        1         The       signs\n",
      "1        1       signs         are\n",
      "2        1         are     getting\n",
      "3        1     getting     clearer\n",
      "4        1     clearer     clearer\n",
      "5        1     clearer        than\n",
      "6        1        than         you\n",
      "7        1         you        need\n",
      "8        1        need         The\n",
      "9        1         The   writing's\n",
      "10       1   writing's          on\n",
      "11      15          on         the\n",
      "12       2         the        wall\n",
      "13       1        wall         for\n",
      "14      12         for         you\n",
      "15       3         you          to\n",
      "16       5          to         see\n",
      "17       3         see         You\n",
      "18       4         You       never\n",
      "19       4       never     thought\n",
      "20       2     thought       you'd\n",
      "21       2       you'd        ever\n",
      "22       2        ever         get\n",
      "23       2         get         the\n",
      "24       1         the       taste\n",
      "25       1       taste         You\n",
      "26       1     thought        that\n",
      "27       2        that          it\n",
      "28       1          it       could\n",
      "29       1       could          be\n",
      "...    ...         ...         ...\n",
      "2632     1        What          do\n",
      "2633     1        want        They\n",
      "2634     1        last          If\n",
      "2635     1         you     believe\n",
      "2636     1        love        sing\n",
      "2637     1        sing        Love\n",
      "2638     1        last     last...\n",
      "2639     1     last...          we\n",
      "2640     3       prove        them\n",
      "2641     3        them       wrong\n",
      "2642     1       wrong    wrong...\n",
      "2643     1    wrong...      'Cause\n",
      "2644     3        past        that\n",
      "2645     3        that        love\n",
      "2646     1      you...        Love\n",
      "2647     1        will        love\n",
      "2648     1        will        just\n",
      "2649     1        just       won't\n",
      "2650     2       won't          do\n",
      "2651     1          do  without...\n",
      "2652     1  without...          We\n",
      "2653     1      you...        Just\n",
      "2654     1        Just       won't\n",
      "2655     1      you...          We\n",
      "2656     1      you...         Ooh\n",
      "2657     1         Ooh         ooh\n",
      "2658     1         ooh      ooh...\n",
      "2659     1      ooh...        They\n",
      "2660     2        said       it...\n",
      "2661     1       it...        They\n",
      "\n",
      "[2662 rows x 3 columns]\n"
     ]
    }
   ],
   "source": [
    "import nltk\n",
    "import pandas as pd\n",
    "translation_table = dict.fromkeys(map(ord, '!@#$(),?'), None)\n",
    "lyrics = lyrics.translate(translation_table)\n",
    "\n",
    "bigram = list(nltk.bigrams(lyrics.split()))\n",
    "fdist = nltk.FreqDist(bigram)\n",
    "src = []\n",
    "to = []\n",
    "freq = []\n",
    "\n",
    "for k,v in fdist.items():\n",
    "    src.append(k[0])\n",
    "    to.append(k[1])\n",
    "    freq.append(v)\n",
    "    \n",
    "df = pd.DataFrame({'src': src, 'to': to, 'frea': freq})\n",
    "print(df)\n"
   ]
  },
  {
   "cell_type": "code",
   "execution_count": 44,
   "metadata": {
    "collapsed": true
   },
   "outputs": [],
   "source": [
    "df.to_csv('out.csv')\n"
   ]
  },
  {
   "cell_type": "code",
   "execution_count": null,
   "metadata": {
    "collapsed": true
   },
   "outputs": [],
   "source": []
  }
 ],
 "metadata": {
  "kernelspec": {
   "display_name": "Python 3",
   "language": "python",
   "name": "python3"
  },
  "language_info": {
   "codemirror_mode": {
    "name": "ipython",
    "version": 3
   },
   "file_extension": ".py",
   "mimetype": "text/x-python",
   "name": "python",
   "nbconvert_exporter": "python",
   "pygments_lexer": "ipython3",
   "version": "3.6.1"
  }
 },
 "nbformat": 4,
 "nbformat_minor": 2
}
